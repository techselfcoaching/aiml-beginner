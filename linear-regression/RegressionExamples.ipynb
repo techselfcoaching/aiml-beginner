{
 "cells": [
  {
   "cell_type": "code",
   "execution_count": null,
   "id": "4ad25068",
   "metadata": {},
   "outputs": [],
   "source": [
    "import numpy as np\n",
    "import matplotlib.pyplot as plt\n",
    "from sklearn.linear_model import LinearRegression\n",
    "from sklearn.model_selection import train_test_split\n",
    "from sklearn.metrics import r2_score\n",
    "import pandas as pd\n",
    "from mpl_toolkits.mplot3d import Axes3D"
   ]
  },
  {
   "cell_type": "code",
   "execution_count": null,
   "id": "208e35ec",
   "metadata": {},
   "outputs": [],
   "source": [
    "# Set random seed for reproducibility\n",
    "np.random.seed(42)"
   ]
  },
  {
   "cell_type": "code",
   "execution_count": null,
   "id": "107a8746",
   "metadata": {},
   "outputs": [],
   "source": [
    "print(\"=\"*60)\n",
    "print(\"EXAMPLE 1: SIMPLE LINEAR REGRESSION (ONE VARIABLE)\")\n",
    "print(\"=\"*60)"
   ]
  },
  {
   "cell_type": "code",
   "execution_count": null,
   "id": "8f739fe5",
   "metadata": {},
   "outputs": [],
   "source": [
    "# Generate sample data - House size vs Price\n",
    "house_sizes = np.random.uniform(800, 3000, 100)  # Square feet\n",
    "# Price = 50 * size + 20000 + some noise\n",
    "house_prices = 50 * house_sizes + 20000 + np.random.normal(0, 5000, 100)"
   ]
  },
  {
   "cell_type": "code",
   "execution_count": null,
   "id": "9d7742f8",
   "metadata": {},
   "outputs": [],
   "source": [
    "# Reshape for sklearn (needs 2D array)\n",
    "X_single = house_sizes.reshape(-1, 1)\n",
    "y_single = house_prices"
   ]
  },
  {
   "cell_type": "code",
   "execution_count": null,
   "id": "c49a4d2e",
   "metadata": {},
   "outputs": [],
   "source": [
    "# Create and fit the model\n",
    "model_single = LinearRegression()\n",
    "model_single.fit(X_single, y_single)"
   ]
  },
  {
   "cell_type": "code",
   "execution_count": null,
   "id": "bf42d17d",
   "metadata": {},
   "outputs": [],
   "source": [
    "# Make predictions\n",
    "y_pred_single = model_single.predict(X_single)"
   ]
  },
  {
   "cell_type": "code",
   "execution_count": null,
   "id": "dca33540",
   "metadata": {},
   "outputs": [],
   "source": [
    "# Print results\n",
    "print(f\"Intercept (β₀): ${model_single.intercept_:,.2f}\")\n",
    "print(f\"Slope (β₁): ${model_single.coef_[0]:.2f} per sq ft\")\n",
    "print(f\"R² Score: {r2_score(y_single, y_pred_single):.3f}\")\n",
    "print(f\"\\nInterpretation:\")\n",
    "print(f\"- When house size = 0 sq ft, predicted price = ${model_single.intercept_:,.2f}\")\n",
    "print(f\"- For every 1 sq ft increase, price increases by ${model_single.coef_[0]:.2f}\")"
   ]
  },
  {
   "cell_type": "code",
   "execution_count": null,
   "id": "b5c7c4d4",
   "metadata": {},
   "outputs": [],
   "source": [
    "# Create visualization\n",
    "plt.figure(figsize=(15, 5))"
   ]
  },
  {
   "cell_type": "code",
   "execution_count": null,
   "id": "29b99e77",
   "metadata": {},
   "outputs": [],
   "source": [
    "plt.subplot(1, 3, 1)\n",
    "plt.scatter(house_sizes, house_prices, alpha=0.6, color='blue', label='Actual prices')\n",
    "plt.plot(house_sizes, y_pred_single, color='red', linewidth=2, label='Regression line')\n",
    "plt.xlabel('House Size (sq ft)')\n",
    "plt.ylabel('Price ($)')\n",
    "plt.title('Simple Linear Regression\\nHouse Size vs Price')\n",
    "plt.legend()\n",
    "plt.grid(True, alpha=0.3)"
   ]
  },
  {
   "cell_type": "code",
   "execution_count": null,
   "id": "00b74d7d",
   "metadata": {},
   "outputs": [],
   "source": [
    "print(\"\\n\" + \"=\"*60)\n",
    "print(\"EXAMPLE 2: MULTIPLE LINEAR REGRESSION (TWO VARIABLES)\")\n",
    "print(\"=\"*60)"
   ]
  },
  {
   "cell_type": "code",
   "execution_count": null,
   "id": "4eb14a5c",
   "metadata": {},
   "outputs": [],
   "source": [
    "# Generate sample data - House size and bedrooms vs Price\n",
    "n_samples = 100\n",
    "house_sizes_multi = np.random.uniform(800, 3000, n_samples)\n",
    "bedrooms = np.random.randint(1, 6, n_samples)\n",
    "# Price = 40 * size + 5000 * bedrooms + 10000 + noise\n",
    "house_prices_multi = (40 * house_sizes_multi + \n",
    "                     5000 * bedrooms + \n",
    "                     10000 + \n",
    "                     np.random.normal(0, 8000, n_samples))"
   ]
  },
  {
   "cell_type": "code",
   "execution_count": null,
   "id": "200c4bd9",
   "metadata": {},
   "outputs": [],
   "source": [
    "# Prepare data\n",
    "X_multi = np.column_stack([house_sizes_multi, bedrooms])\n",
    "y_multi = house_prices_multi"
   ]
  },
  {
   "cell_type": "code",
   "execution_count": null,
   "id": "ade66bcd",
   "metadata": {},
   "outputs": [],
   "source": [
    "# Create and fit the model\n",
    "model_multi = LinearRegression()\n",
    "model_multi.fit(X_multi, y_multi)"
   ]
  },
  {
   "cell_type": "code",
   "execution_count": null,
   "id": "0a9f6971",
   "metadata": {},
   "outputs": [],
   "source": [
    "# Make predictions\n",
    "y_pred_multi = model_multi.predict(X_multi)"
   ]
  },
  {
   "cell_type": "code",
   "execution_count": null,
   "id": "d11b15ed",
   "metadata": {},
   "outputs": [],
   "source": [
    "# Print results\n",
    "print(f\"Intercept (β₀): ${model_multi.intercept_:,.2f}\")\n",
    "print(f\"Coefficient for Size (β₁): ${model_multi.coef_[0]:.2f} per sq ft\")\n",
    "print(f\"Coefficient for Bedrooms (β₂): ${model_multi.coef_[1]:,.2f} per bedroom\")\n",
    "print(f\"R² Score: {r2_score(y_multi, y_pred_multi):.3f}\")\n",
    "print(f\"\\nRegression Equation:\")\n",
    "print(f\"Price = {model_multi.intercept_:,.0f} + {model_multi.coef_[0]:.1f} × Size + {model_multi.coef_[1]:,.0f} × Bedrooms\")"
   ]
  },
  {
   "cell_type": "code",
   "execution_count": null,
   "id": "026660b9",
   "metadata": {},
   "outputs": [],
   "source": [
    "# Visualizations for multiple regression\n",
    "plt.subplot(1, 3, 2)\n",
    "plt.scatter(house_sizes_multi, house_prices_multi, c=bedrooms, cmap='viridis', alpha=0.6)\n",
    "plt.colorbar(label='Number of Bedrooms')\n",
    "plt.xlabel('House Size (sq ft)')\n",
    "plt.ylabel('Price ($)')\n",
    "plt.title('Multiple Regression Data\\n(Color = Bedrooms)')\n",
    "plt.grid(True, alpha=0.3)"
   ]
  },
  {
   "cell_type": "code",
   "execution_count": null,
   "id": "3655d96d",
   "metadata": {},
   "outputs": [],
   "source": [
    "# 3D visualization\n",
    "ax = plt.subplot(1, 3, 3, projection='3d')\n",
    "scatter = ax.scatter(house_sizes_multi, bedrooms, house_prices_multi, c=house_prices_multi, cmap='coolwarm', alpha=0.6)\n",
    "ax.set_xlabel('House Size (sq ft)')\n",
    "ax.set_ylabel('Bedrooms')\n",
    "ax.set_zlabel('Price ($)')\n",
    "ax.set_title('3D View: Multiple Regression')"
   ]
  },
  {
   "cell_type": "code",
   "execution_count": null,
   "id": "01442608",
   "metadata": {},
   "outputs": [],
   "source": [
    "# Create a mesh for the regression plane\n",
    "size_range = np.linspace(house_sizes_multi.min(), house_sizes_multi.max(), 10)\n",
    "bedroom_range = np.linspace(bedrooms.min(), bedrooms.max(), 10)\n",
    "size_mesh, bedroom_mesh = np.meshgrid(size_range, bedroom_range)\n",
    "price_mesh = (model_multi.intercept_ + \n",
    "              model_multi.coef_[0] * size_mesh + \n",
    "              model_multi.coef_[1] * bedroom_mesh)"
   ]
  },
  {
   "cell_type": "code",
   "execution_count": null,
   "id": "76224397",
   "metadata": {},
   "outputs": [],
   "source": [
    "ax.plot_surface(size_mesh, bedroom_mesh, price_mesh, alpha=0.3, color='red')"
   ]
  },
  {
   "cell_type": "code",
   "execution_count": null,
   "id": "a92cee74",
   "metadata": {},
   "outputs": [],
   "source": [
    "plt.tight_layout()\n",
    "plt.show()"
   ]
  },
  {
   "cell_type": "code",
   "execution_count": null,
   "id": "ec2b779d",
   "metadata": {},
   "outputs": [],
   "source": [
    "print(\"\\n\" + \"=\"*60)\n",
    "print(\"EXAMPLE PREDICTIONS\")\n",
    "print(\"=\"*60)"
   ]
  },
  {
   "cell_type": "code",
   "execution_count": null,
   "id": "061c1e3e",
   "metadata": {},
   "outputs": [],
   "source": [
    "# Example predictions\n",
    "print(\"Single Variable Model Predictions:\")\n",
    "test_sizes = [1000, 1500, 2000, 2500]\n",
    "for size in test_sizes:\n",
    "    pred_price = model_single.predict([[size]])[0]\n",
    "    print(f\"House size: {size} sq ft → Predicted price: ${pred_price:,.2f}\")"
   ]
  },
  {
   "cell_type": "code",
   "execution_count": null,
   "id": "7633b063",
   "metadata": {},
   "outputs": [],
   "source": [
    "print(\"\\nMultiple Variable Model Predictions:\")\n",
    "test_cases = [(1000, 2), (1500, 3), (2000, 3), (2500, 4)]\n",
    "for size, beds in test_cases:\n",
    "    pred_price = model_multi.predict([[size, beds]])[0]\n",
    "    print(f\"Size: {size} sq ft, Bedrooms: {beds} → Predicted price: ${pred_price:,.2f}\")"
   ]
  },
  {
   "cell_type": "code",
   "execution_count": null,
   "id": "7e16f1b4",
   "metadata": {},
   "outputs": [],
   "source": [
    "print(\"\\n\" + \"=\"*60)\n",
    "print(\"KEY INSIGHTS\")\n",
    "print(\"=\"*60)\n",
    "print(\"1. INTERCEPT interpretation:\")\n",
    "print(f\"   - Single model: ${model_single.intercept_:,.0f} (price when size=0)\")\n",
    "print(f\"   - Multiple model: ${model_multi.intercept_:,.0f} (price when size=0 AND bedrooms=0)\")\n",
    "print(\"\\n2. The intercept may not be meaningful in real-world context\")\n",
    "print(\"   (e.g., a house with 0 sq ft doesn't exist)\")\n",
    "print(\"\\n3. Multiple regression captures more variation in the data\")\n",
    "print(f\"   - R² improved from {r2_score(y_single, y_pred_single):.3f} to {r2_score(y_multi, y_pred_multi):.3f}\")"
   ]
  }
 ],
 "metadata": {
  "jupytext": {
   "cell_metadata_filter": "-all",
   "main_language": "python",
   "notebook_metadata_filter": "-all"
  }
 },
 "nbformat": 4,
 "nbformat_minor": 5
}
