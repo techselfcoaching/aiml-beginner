{
 "cells": [
  {
   "cell_type": "markdown",
   "metadata": {},
   "source": [
    "# 🤗 Basic Hugging Face Pipelines Demo\n",
    "\n",
    "This notebook demonstrates various Hugging Face transformer pipelines for different AI tasks.\n",
    "\n",
    "## Prerequisites\n",
    "Make sure you have the required packages installed:\n",
    "\n",
    "```bash\n",
    "pip install torch transformers pillow gtts\n",
    "```"
   ]
  },
  {
   "cell_type": "code",
   "execution_count": null,
   "metadata": {},
   "outputs": [],
   "source": [
    "# Install required packages (uncomment if needed)\n",
    "# !pip install torch transformers pillow gtts"
   ]
  },
  {
   "cell_type": "code",
   "execution_count": null,
   "metadata": {},
   "outputs": [],
   "source": [
    "from transformers import pipeline\n",
    "import os"
   ]
  },
  {
   "cell_type": "markdown",
   "metadata": {},
   "source": [
    "## Setup: Prepare Sample Input Files"
   ]
  },
  {
   "cell_type": "code",
   "execution_count": null,
   "metadata": {},
   "outputs": [],
   "source": [
    "# Create a sample text file\n",
    "if not os.path.exists(\"sample_text.txt\"):\n",
    "    with open(\"sample_text.txt\", \"w\") as f:\n",
    "        f.write(\"\"\"Mark Elliot Zuckerberg zkrbr born May 14 1984 is an American businessman who cofounded the social media service Facebook and its parent company Meta Platforms of which he is the chairman chief executive officer and controlling shareholder Zuckerberg has been the subject of multiple lawsuits regarding the creation and ownership of the website as well as issues such as user privacy\n",
    "                Born in White Plains New York Zuckerberg briefly attended Harvard College where he launched Facebook in February 2004 with his roommates Eduardo Saverin Andrew McCollum Dustin Moskovitz and Chris Hughes Zuckerberg took the company public in May 2012 with majority shares He became the worlds youngest selfmade billionairea in 2008 at age 23 and has consistently ranked among the worlds wealthiest individuals According to Forbes Zuckerbergs estimated net worth stood at US2212 billion as of May 2025 making him the secondrichest individual in the world2\n",
    "                Zuckerberg has used his funds to organize multiple large donations including the establishment of the Chan Zuckerberg Initiative A film depicting Zuckerbergs early career legal troubles and initial success with Facebook The Social Network was released in 2010 and won multiple Academy Awards His prominence and fast rise in the technology industry has prompted political and legal attention\"\"\")\n",
    "\n",
    "print(\"✅ Sample text file created: sample_text.txt\")"
   ]
  },
  {
   "cell_type": "code",
   "execution_count": null,
   "metadata": {},
   "outputs": [],
   "source": [
    "# Generate a small audio sample using gTTS (Google Text-to-Speech)\n",
    "try:\n",
    "    from gtts import gTTS\n",
    "    if not os.path.exists(\"speech.wav\"):\n",
    "        tts = gTTS(\"Mark Elliot Zuckerberg zkrbr born May 14 1984 is an American businessman who cofounded the social media service Facebook and its parent company Meta Platforms of which he is the chairman chief executive officer and controlling shareholder Zuckerberg has been the subject of multiple lawsuits regarding the creation and ownership of the website as well as issues such as user privacy\", lang=\"en\")\n",
    "        tts.save(\"speech.wav\")\n",
    "        print(\"✅ Sample audio file created: speech.wav\")\n",
    "except ImportError:\n",
    "    print(\"⚠️ gTTS not installed, skipping audio file creation. Install with: pip install gTTS\")"
   ]
  },
  {
   "cell_type": "markdown",
   "metadata": {},
   "source": [
    "## 1-A. Sentiment Analysis (Default Model)"
   ]
  },
  {
   "cell_type": "code",
   "execution_count": null,
   "metadata": {},
   "outputs": [],
   "source": [
    "print(\"--- 1 - A: Sentiment Analysis ---\")\n",
    "sentiment_pipeline = pipeline(\"sentiment-analysis\")\n",
    "result = sentiment_pipeline(\"Hugging Face makes working with AI so much easier!\")\n",
    "print(result)"
   ]
  },
  {
   "cell_type": "markdown",
   "metadata": {},
   "source": [
    "## 1-B. Sentiment Analysis (Explicit Model + Revision)\n",
    "\n",
    "For production, Hugging Face recommends explicitly specifying the model + revision to avoid unexpected behavior if defaults change in the future."
   ]
  },
  {
   "cell_type": "code",
   "execution_count": null,
   "metadata": {},
   "outputs": [],
   "source": [
    "print(\"--- 1 - B: Sentiment Analysis --- explicitly specifying the model + revision\")\n",
    "sentiment_pipeline = pipeline(\n",
    "    \"sentiment-analysis\",\n",
    "    model=\"distilbert/distilbert-base-uncased-finetuned-sst-2-english\",\n",
    "    revision=\"714eb0f\"  # pin to the exact version you tested\n",
    "    #,device=0  # 0 means first GPU\n",
    ")\n",
    "result = sentiment_pipeline(\"Hugging Face makes working with AI so much easier!\")\n",
    "print(result)"
   ]
  },
  {
   "cell_type": "markdown",
   "metadata": {},
   "source": [
    "## 2. Named Entity Recognition (NER)"
   ]
  },
  {
   "cell_type": "code",
   "execution_count": null,
   "metadata": {},
   "outputs": [],
   "source": [
    "print(\"--- 2. Named Entity Recognition ---\")\n",
    "ner_pipeline = pipeline(\"ner\", grouped_entities=True)\n",
    "result = ner_pipeline(\"Mark Zuckerberg is the founder, chairman and CEO of Meta, which he originally founded as Facebook in 2004\")\n",
    "print(result)"
   ]
  },
  {
   "cell_type": "markdown",
   "metadata": {},
   "source": [
    "## 3. Question Answering"
   ]
  },
  {
   "cell_type": "code",
   "execution_count": null,
   "metadata": {},
   "outputs": [],
   "source": [
    "print(\"--- Question Answering ---\")\n",
    "qa_pipeline = pipeline(\"question-answering\")\n",
    "context = \"Hugging Face is a company based in New York and Paris. It is famous for transformers library.\"\n",
    "result = qa_pipeline(question=\"Where is Hugging Face based?\", context=context)\n",
    "print(result)"
   ]
  },
  {
   "cell_type": "markdown",
   "metadata": {},
   "source": [
    "## 4. Summarization"
   ]
  },
  {
   "cell_type": "code",
   "execution_count": null,
   "metadata": {},
   "outputs": [],
   "source": [
    "print(\"--- Summarization ---\")\n",
    "summarizer = pipeline(\"summarization\")\n",
    "with open(\"sample_text.txt\", \"r\") as f:\n",
    "    text = f.read()\n",
    "result = summarizer(text, max_length=40, min_length=10, do_sample=False)\n",
    "print(result)"
   ]
  },
  {
   "cell_type": "markdown",
   "metadata": {},
   "source": [
    "## 5. Text Generation"
   ]
  },
  {
   "cell_type": "code",
   "execution_count": null,
   "metadata": {},
   "outputs": [],
   "source": [
    "print(\"--- Text Generation ---\")\n",
    "generator = pipeline(\"text-generation\", model=\"gpt2\")\n",
    "result = generator(\"Once upon a time in AI world,\", max_length=30, num_return_sequences=1)\n",
    "print(result)"
   ]
  },
  {
   "cell_type": "markdown",
   "metadata": {},
   "source": [
    "## 6. Translation (EN → FR)"
   ]
  },
  {
   "cell_type": "code",
   "execution_count": null,
   "metadata": {},
   "outputs": [],
   "source": [
    "print(\"--- Translation (EN → FR) ---\")\n",
    "translator = pipeline(\"translation_en_to_fr\")\n",
    "result = translator(\"thank you\")\n",
    "print(result)"
   ]
  },
  {
   "cell_type": "markdown",
   "metadata": {},
   "source": [
    "## 7. Zero-Shot Classification"
   ]
  },
  {
   "cell_type": "code",
   "execution_count": null,
   "metadata": {},
   "outputs": [],
   "source": [
    "print(\"--- Zero-Shot Classification ---\")\n",
    "zero_shot = pipeline(\"zero-shot-classification\")\n",
    "result = zero_shot(\n",
    "    \"I love to play football on weekends.\",\n",
    "    candidate_labels=[\"sports\", \"politics\", \"technology\"]\n",
    ")\n",
    "print(result)"
   ]
  },
  {
   "cell_type": "markdown",
   "metadata": {},
   "source": [
    "## 8. Automatic Speech Recognition (ASR)"
   ]
  },
  {
   "cell_type": "code",
   "execution_count": null,
   "metadata": {},
   "outputs": [],
   "source": [
    "print(\"--- Automatic Speech Recognition ---\")\n",
    "try:\n",
    "    asr = pipeline(\"automatic-speech-recognition\", model=\"openai/whisper-base\")\n",
    "    if os.path.exists(\"speech.wav\"):\n",
    "        result = asr(\"speech.wav\")\n",
    "        print(result)\n",
    "    else:\n",
    "        print(\"⚠️ No audio file available.\")\n",
    "except Exception as e:\n",
    "    print(f\"⚠️ ASR pipeline skipped (model too large or missing dependency): {e}\")"
   ]
  },
  {
   "cell_type": "markdown",
   "metadata": {},
   "source": [
    "## 9. Image Classification"
   ]
  },
  {
   "cell_type": "code",
   "execution_count": null,
   "metadata": {},
   "outputs": [],
   "source": [
    "print(\"--- Image Classification ---\")\n",
    "image_classifier = pipeline(\"image-classification\")\n",
    "result = image_classifier(\"https://hips.hearstapps.com/roa.h-cdn.co/assets/15/10/nrm_1425400062-aero817.jpg?crop=0.894xw:0.671xh;0,0.209xh&resize=640:*\")\n",
    "print(result)"
   ]
  },
  {
   "cell_type": "markdown",
   "metadata": {},
   "source": [
    "## 🎉 Demo Complete!\n",
    "\n",
    "You've successfully run through all the basic Hugging Face pipeline examples. Some notes:\n",
    "\n",
    "- Models will be downloaded on first run and cached locally\n",
    "- Some models (like Whisper) can be quite large and may take time to download\n",
    "- You can specify `device=0` in pipeline creation to use GPU if available\n",
    "- For production use, always pin specific model versions using the `revision` parameter\n",
    "\n",
    "### Next Steps\n",
    "- Try different input texts and see how results change\n",
    "- Experiment with different models for each task\n",
    "- Check out the Hugging Face Model Hub for more specialized models\n",
    "- Consider fine-tuning models for your specific use case"
   ]
  }
 ],
 "metadata": {
  "kernelspec": {
   "display_name": "Python 3",
   "language": "python",
   "name": "python3"
  },
  "language_info": {
   "codemirror_mode": {
    "name": "ipython",
    "version": 3
   },
   "file_extension": ".py",
   "mimetype": "text/x-python",
   "name": "python",
   "nbconvert_exporter": "python",
   "pygments_lexer": "ipython3",
   "version": "3.8.5"
  }
 },
 "nbformat": 4,
 "nbformat_minor": 4
}