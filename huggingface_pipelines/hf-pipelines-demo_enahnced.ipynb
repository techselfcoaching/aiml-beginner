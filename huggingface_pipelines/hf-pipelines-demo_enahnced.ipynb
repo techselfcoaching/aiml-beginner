{
 "cells": [
  {
   "cell_type": "markdown",
   "metadata": {},
   "source": [
    "# 🤗 Enhanced Hugging Face Pipelines Demo\n",
    "\n",
    "This notebook demonstrates various Hugging Face transformer pipelines for different AI tasks.\n",
    "\n",
    "## Prerequisites\n",
    "Make sure you have the required packages installed:\n",
    "\n",
    "```bash\n",
    "pip install torch transformers pillow gtts\n",
    "```"
   ]
  },
  {
   "cell_type": "code",
   "execution_count": null,
   "metadata": {},
   "outputs": [],
   "source": [
    "# Install required packages (uncomment if needed)\n",
    "# !pip install torch transformers pillow gtts"
   ]
  },
  {
   "cell_type": "code",
   "execution_count": null,
   "metadata": {},
   "outputs": [],
   "source": [
    "from transformers import pipeline\n",
    "import os\n",
    "import warnings\n",
    "warnings.filterwarnings(\"ignore\")\n",
    "\n",
    "print(\"🤗 Enhanced Hugging Face Pipelines Demo\")\n",
    "print(\"=\" * 50)"
   ]
  },
  {
   "cell_type": "markdown",
   "metadata": {},
   "source": [
    "## Setup: Prepare Sample Input Files"
   ]
  },
  {
   "cell_type": "code",
   "execution_count": null,
   "metadata": {},
   "outputs": [],
   "source": [
    "# Create a sample text file\n",
    "if not os.path.exists(\"sample_text.txt\"):\n",
    "    with open(\"sample_text.txt\", \"w\") as f:\n",
    "        f.write(\"\"\"Mark Elliot Zuckerberg born May 14 1984 is an American businessman who cofounded the social media service Facebook and its parent company Meta Platforms of which he is the chairman chief executive officer and controlling shareholder. Zuckerberg has been the subject of multiple lawsuits regarding the creation and ownership of the website as well as issues such as user privacy.\n",
    "                \n",
    "Born in White Plains New York Zuckerberg briefly attended Harvard College where he launched Facebook in February 2004 with his roommates Eduardo Saverin Andrew McCollum Dustin Moskovitz and Chris Hughes. Zuckerberg took the company public in May 2012 with majority shares. He became the worlds youngest selfmade billionaire in 2008 at age 23 and has consistently ranked among the worlds wealthiest individuals. According to Forbes Zuckerbergs estimated net worth stood at US$221.2 billion as of May 2025 making him the second-richest individual in the world.\n",
    "                \n",
    "Zuckerberg has used his funds to organize multiple large donations including the establishment of the Chan Zuckerberg Initiative. A film depicting Zuckerbergs early career legal troubles and initial success with Facebook The Social Network was released in 2010 and won multiple Academy Awards. His prominence and fast rise in the technology industry has prompted political and legal attention.\"\"\")\n",
    "\n",
    "# Generate a small audio sample using gTTS (Google Text-to-Speech)\n",
    "try:\n",
    "    from gtts import gTTS\n",
    "    if not os.path.exists(\"speech.wav\"):\n",
    "        tts = gTTS(\"Hello world, this is a sample audio for speech recognition testing.\", lang=\"en\")\n",
    "        tts.save(\"speech.wav\")\n",
    "        print(\"✅ Sample audio file created: speech.wav\")\n",
    "except ImportError:\n",
    "    print(\"⚠️ gTTS not installed, skipping audio file creation. Install with: pip install gTTS\")"
   ]
  },
  {
   "cell_type": "markdown",
   "metadata": {},
   "source": [
    "## 1. Sentiment Analysis"
   ]
  },
  {
   "cell_type": "code",
   "execution_count": null,
   "metadata": {},
   "outputs": [],
   "source": [
    "print(\"--- 1-A: Sentiment Analysis (Default Model) ---\")\n",
    "try:\n",
    "    sentiment_pipeline = pipeline(\"sentiment-analysis\")\n",
    "    result = sentiment_pipeline(\"Hugging Face makes working with AI so much easier!\")\n",
    "    print(f\"✅ Result: {result}\")\n",
    "except Exception as e:\n",
    "    print(f\"❌ Error: {e}\")"
   ]
  },
  {
   "cell_type": "code",
   "execution_count": null,
   "metadata": {},
   "outputs": [],
   "source": [
    "print(\"--- 1-B: Sentiment Analysis (Explicit Model) ---\")\n",
    "try:\n",
    "    sentiment_pipeline = pipeline(\n",
    "        \"sentiment-analysis\",\n",
    "        model=\"distilbert/distilbert-base-uncased-finetuned-sst-2-english\",\n",
    "        revision=\"714eb0f\"\n",
    "    )\n",
    "    result = sentiment_pipeline(\"I'm feeling quite disappointed with this product.\")\n",
    "    print(f\"✅ Result: {result}\")\n",
    "except Exception as e:\n",
    "    print(f\"❌ Error: {e}\")"
   ]
  },
  {
   "cell_type": "markdown",
   "metadata": {},
   "source": [
    "## 2. Named Entity Recognition (NER)"
   ]
  },
  {
   "cell_type": "code",
   "execution_count": null,
   "metadata": {},
   "outputs": [],
   "source": [
    "print(\"--- 2: Named Entity Recognition ---\")\n",
    "try:\n",
    "    ner_pipeline = pipeline(\"ner\", grouped_entities=True)\n",
    "    result = ner_pipeline(\"Mark Zuckerberg is the founder, chairman and CEO of Meta, which he originally founded as Facebook in 2004\")\n",
    "    print(f\"✅ Result: {result}\")\n",
    "except Exception as e:\n",
    "    print(f\"❌ Error: {e}\")"
   ]
  },
  {
   "cell_type": "markdown",
   "metadata": {},
   "source": [
    "## 3. Question Answering"
   ]
  },
  {
   "cell_type": "code",
   "execution_count": null,
   "metadata": {},
   "outputs": [],
   "source": [
    "print(\"--- 3: Question Answering ---\")\n",
    "try:\n",
    "    qa_pipeline = pipeline(\"question-answering\")\n",
    "    context = \"Hugging Face is a company based in New York and Paris. It is famous for transformers library and democratizing AI.\"\n",
    "    result = qa_pipeline(question=\"Where is Hugging Face based?\", context=context)\n",
    "    print(f\"✅ Result: {result}\")\n",
    "except Exception as e:\n",
    "    print(f\"❌ Error: {e}\")"
   ]
  },
  {
   "cell_type": "markdown",
   "metadata": {},
   "source": [
    "## 4. Summarization"
   ]
  },
  {
   "cell_type": "code",
   "execution_count": null,
   "metadata": {},
   "outputs": [],
   "source": [
    "print(\"--- 4: Summarization ---\")\n",
    "try:\n",
    "    summarizer = pipeline(\"summarization\")\n",
    "    with open(\"sample_text.txt\", \"r\") as f:\n",
    "        text = f.read()\n",
    "    result = summarizer(text, max_length=50, min_length=20, do_sample=False)\n",
    "    print(f\"✅ Result: {result}\")\n",
    "except Exception as e:\n",
    "    print(f\"❌ Error: {e}\")"
   ]
  },
  {
   "cell_type": "markdown",
   "metadata": {},
   "source": [
    "## 5. Text Generation"
   ]
  },
  {
   "cell_type": "code",
   "execution_count": null,
   "metadata": {},
   "outputs": [],
   "source": [
    "print(\"--- 5: Text Generation ---\")\n",
    "try:\n",
    "    generator = pipeline(\"text-generation\", model=\"gpt2\")\n",
    "    result = generator(\"Once upon a time in AI world,\", max_length=50, num_return_sequences=1, do_sample=True, temperature=0.7)\n",
    "    print(f\"✅ Result: {result}\")\n",
    "except Exception as e:\n",
    "    print(f\"❌ Error: {e}\")"
   ]
  },
  {
   "cell_type": "markdown",
   "metadata": {},
   "source": [
    "## 6. Translation"
   ]
  },
  {
   "cell_type": "code",
   "execution_count": null,
   "metadata": {},
   "outputs": [],
   "source": [
    "print(\"--- 6: Translation (EN → FR) ---\")\n",
    "try:\n",
    "    translator = pipeline(\"translation_en_to_fr\")\n",
    "    result = translator(\"Thank you for using Hugging Face transformers!\")\n",
    "    print(f\"✅ Result: {result}\")\n",
    "except Exception as e:\n",
    "    print(f\"❌ Error: {e}\")"
   ]
  },
  {
   "cell_type": "markdown",
   "metadata": {},
   "source": [
    "## 7. Zero-Shot Classification"
   ]
  },
  {
   "cell_type": "code",
   "execution_count": null,
   "metadata": {},
   "outputs": [],
   "source": [
    "print(\"--- 7: Zero-Shot Classification ---\")\n",
    "try:\n",
    "    zero_shot = pipeline(\"zero-shot-classification\")\n",
    "    result = zero_shot(\n",
    "        \"I love to play football on weekends and watch matches with friends.\",\n",
    "        candidate_labels=[\"sports\", \"politics\", \"technology\", \"entertainment\", \"health\"]\n",
    "    )\n",
    "    print(f\"✅ Result: {result}\")\n",
    "except Exception as e:\n",
    "    print(f\"❌ Error: {e}\")"
   ]
  },
  {
   "cell_type": "markdown",
   "metadata": {},
   "source": [
    "## 8. Automatic Speech Recognition (ASR)"
   ]
  },
  {
   "cell_type": "code",
   "execution_count": null,
   "metadata": {},
   "outputs": [],
   "source": [
    "print(\"--- 8: Automatic Speech Recognition ---\")\n",
    "try:\n",
    "    asr = pipeline(\"automatic-speech-recognition\", model=\"openai/whisper-tiny\")\n",
    "    if os.path.exists(\"speech.wav\"):\n",
    "        result = asr(\"speech.wav\")\n",
    "        print(f\"✅ Result: {result}\")\n",
    "    else:\n",
    "        print(\"⚠️ No audio file available.\")\n",
    "except Exception as e:\n",
    "    print(f\"❌ ASR pipeline skipped: {e}\")"
   ]
  },
  {
   "cell_type": "markdown",
   "metadata": {},
   "source": [
    "## 9. Image Classification"
   ]
  },
  {
   "cell_type": "code",
   "execution_count": null,
   "metadata": {},
   "outputs": [],
   "source": [
    "print(\"--- 9: Image Classification ---\")\n",
    "try:\n",
    "    image_classifier = pipeline(\"image-classification\")\n",
    "    result = image_classifier(\"https://hips.hearstapps.com/roa.h-cdn.co/assets/15/10/nrm_1425400062-aero817.jpg?crop=0.894xw:0.671xh;0,0.209xh&resize=640:*\")\n",
    "    print(f\"✅ Result: {result}\")\n",
    "except Exception as e:\n",
    "    print(f\"❌ Error: {e}\")"
   ]
  },
  {
   "cell_type": "markdown",
   "metadata": {},
   "source": [
    "## 10. Fill-Mask (BERT-style)"
   ]
  },
  {
   "cell_type": "code",
   "execution_count": null,
   "metadata": {},
   "outputs": [],
   "source": [
    "print(\"--- 10: Fill-Mask ---\")\n",
    "try:\n",
    "    fill_mask = pipeline(\"fill-mask\")\n",
    "    result = fill_mask(\"Hugging Face is creating a [MASK] that the community loves.\")\n",
    "    print(f\"✅ Result: {result[:3]}\")  # Show top 3 predictions\n",
    "except Exception as e:\n",
    "    print(f\"❌ Error: {e}\")"
   ]
  },
  {
   "cell_type": "markdown",
   "metadata": {},
   "source": [
    "## 11. Feature Extraction (Embeddings)"
   ]
  },
  {
   "cell_type": "code",
   "execution_count": null,
   "metadata": {},
   "outputs": [],
   "source": [
    "print(\"--- 11: Feature Extraction (Embeddings) ---\")\n",
    "try:\n",
    "    feature_extractor = pipeline(\"feature-extraction\", model=\"distilbert-base-uncased\")\n",
    "    result = feature_extractor(\"Hugging Face is amazing!\")\n",
    "    print(f\"✅ Result: Embedding shape: {len(result[0])} dimensions\")\n",
    "    print(f\"    First 5 values: {result[0][:5]}\")\n",
    "except Exception as e:\n",
    "    print(f\"❌ Error: {e}\")"
   ]
  },
  {
   "cell_type": "markdown",
   "metadata": {},
   "source": [
    "## 12. Token Classification (NER Alternative)"
   ]
  },
  {
   "cell_type": "code",
   "execution_count": null,
   "metadata": {},
   "outputs": [],
   "source": [
    "print(\"--- 12: Token Classification ---\")\n",
    "try:\n",
    "    token_classifier = pipeline(\"token-classification\", model=\"dbmdz/bert-large-cased-finetuned-conll03-english\")\n",
    "    result = token_classifier(\"Apple Inc. was founded by Steve Jobs in California.\")\n",
    "    print(f\"✅ Result: {result}\")\n",
    "except Exception as e:\n",
    "    print(f\"❌ Error: {e}\")"
   ]
  },
  {
   "cell_type": "markdown",
   "metadata": {},
   "source": [
    "## 13. Text2Text Generation (T5-style)"
   ]
  },
  {
   "cell_type": "code",
   "execution_count": null,
   "metadata": {},
   "outputs": [],
   "source": [
    "print(\"--- 13: Text2Text Generation ---\")\n",
    "try:\n",
    "    text2text = pipeline(\"text2text-generation\", model=\"t5-small\")\n",
    "    result = text2text(\"translate English to German: How are you doing today?\")\n",
    "    print(f\"✅ Result: {result}\")\n",
    "except Exception as e:\n",
    "    print(f\"❌ Error: {e}\")"
   ]
  },
  {
   "cell_type": "markdown",
   "metadata": {},
   "source": [
    "## 14. Object Detection"
   ]
  },
  {
   "cell_type": "code",
   "execution_count": null,
   "metadata": {},
   "outputs": [],
   "source": [
    "print(\"--- 14: Object Detection ---\")\n",
    "try:\n",
    "    object_detector = pipeline(\"object-detection\", model=\"facebook/detr-resnet-50\")\n",
    "    result = object_detector(\"https://hips.hearstapps.com/roa.h-cdn.co/assets/15/10/nrm_1425400062-aero817.jpg?crop=0.894xw:0.671xh;0,0.209xh&resize=640:*\")\n",
    "    print(f\"✅ Result: Found {